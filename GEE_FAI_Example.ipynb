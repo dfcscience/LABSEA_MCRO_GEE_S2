{
 "cells": [
  {
   "cell_type": "code",
   "execution_count": 37,
   "id": "b1c44300",
   "metadata": {},
   "outputs": [],
   "source": [
    "import os\n",
    "import ee\n",
    "import csv\n",
    "import geemap\n",
    "import geemap.colormaps as cm\n",
    "import numpy as np\n",
    "from glob import glob\n",
    "import ipywidgets as widgets\n",
    "from ipyleaflet import Map, TileLayer, DrawControl\n",
    "from ipywidgets import Label\n",
    "# Authenticate to Earth Engine\n",
    "ee.Authenticate()\n",
    "ee.Initialize()"
   ]
  },
  {
   "cell_type": "code",
   "execution_count": 24,
   "id": "bf1bf2ce",
   "metadata": {},
   "outputs": [],
   "source": [
    "def display_rgb_image_arrow(Map, image):\n",
    "    Map.centerObject(image.geometry(), 8)\n",
    "    Map.addLayer(image, {'bands': ['B4', 'B3', 'B2'], 'min': 0, 'max': 3000}, 'RGB')\n",
    "    Map.addLayerControl()\n",
    "\n",
    "def update_map(image_index):\n",
    "    selected_image = ee.Image(image_list.get(int(image_index)))\n",
    "    Map = display_rgb_image(selected_image)\n",
    "    \n",
    "    # Retrieve and print image ID\n",
    "    image_id = selected_image.get('system:index').getInfo()\n",
    "    print(\"Image ID:\", image_id)\n",
    "    \n",
    "    return Map\n",
    "\n",
    "def get_sentinel2_images(bbox, start_date, end_date, max_cloud_cover):\n",
    "    region = ee.Geometry.Rectangle(bbox)\n",
    "    date_filter = ee.Filter.date(start_date, end_date)\n",
    "    cloud_filter = ee.Filter.lt('CLOUDY_PIXEL_PERCENTAGE', max_cloud_cover)\n",
    "    combined_filter = ee.Filter.And(date_filter, cloud_filter)\n",
    "\n",
    "    sentinel2 = (ee.ImageCollection('COPERNICUS/S2')\n",
    "                 .filterBounds(region)\n",
    "                 .filter(combined_filter))\n",
    "\n",
    "    return sentinel2\n",
    "\n",
    "def get_sentinel2_image_by_id(s2):\n",
    "    # Get the image based on its ID\n",
    "    image_id = f\"COPERNICUS/S2/{s2}\"\n",
    "    image = ee.Image(image_id)\n",
    "    return image\n",
    "def cloud_mask(image,b10thld):\n",
    "    cld = image.select('B10')\n",
    "    # Apply threshold to band 10 radiance\n",
    "    cldmsk = cld.lte(b10thld)\n",
    "    return cldmsk\n",
    "def create_roi(csvpath):\n",
    "    csv_data = []\n",
    "\n",
    "    with open(fpath, 'r') as file:\n",
    "        reader = csv.reader(file)\n",
    "        for row in reader:\n",
    "            if not row[0][0] == 'L':\n",
    "                lat, lon = float(row[1]), float(row[0])\n",
    "                csv_data.append((lon, lat))\n",
    "    if len(csv_data) > 0:\n",
    "        # Create a polygon geometry from the CSV data\n",
    "        roi = ee.Geometry.Polygon(csv_data)\n",
    "        return roi\n",
    "    else:\n",
    "        return -10"
   ]
  },
  {
   "cell_type": "code",
   "execution_count": 13,
   "id": "5b8f25b9",
   "metadata": {},
   "outputs": [],
   "source": [
    "def calculate_FAI(image):\n",
    "    # Spectral reflectance values\n",
    "    NIR_band = image.select('B8')  # Near-infrared band\n",
    "    red_band = image.select('B4')  # Red band\n",
    "    SWIR_band = image.select('B11')  # Shortwave infrared band\n",
    "    \n",
    "    # Wavelengths (in nm)\n",
    "    NIR_lambda = 842  # S2 NIR band wavelength\n",
    "    red_lambda = 665  # S2 red band wavelength\n",
    "    SWIR_lambda = 1610  # S2 SWIR band wavelength\n",
    "    \n",
    "    wave_base = (NIR_lambda-red_lambda)/(SWIR_lambda-red_lambda)\n",
    "    SWIR_red_diff = (SWIR_band.subtract(red_band)).multiply(wave_base)\n",
    "    RP = red_band.add(SWIR_red_diff)\n",
    "    # Compute FAI\n",
    "    FAI = NIR_band.subtract(RP)\n",
    "    return FAI"
   ]
  },
  {
   "cell_type": "code",
   "execution_count": 26,
   "id": "b9ce4bc7",
   "metadata": {},
   "outputs": [
    {
     "data": {
      "application/vnd.jupyter.widget-view+json": {
       "model_id": "e14de201ebed481898f4801c180bf13d",
       "version_major": 2,
       "version_minor": 0
      },
      "text/plain": [
       "Map(center=[20, 0], controls=(WidgetControl(options=['position', 'transparent_bg'], widget=HBox(children=(Togg…"
      ]
     },
     "metadata": {},
     "output_type": "display_data"
    },
    {
     "name": "stdout",
     "output_type": "stream",
     "text": [
      "Image ID: 20170701T151909_20170701T152119_T22VDR\n"
     ]
    },
    {
     "data": {
      "application/vnd.jupyter.widget-view+json": {
       "model_id": "90dd35fc59ca48ea9ef8f6ff0822e9b6",
       "version_major": 2,
       "version_minor": 0
      },
      "text/plain": [
       "HBox(children=(Button(description='←', layout=Layout(height='30px', width='50px'), style=ButtonStyle()), Butto…"
      ]
     },
     "metadata": {},
     "output_type": "display_data"
    },
    {
     "name": "stdout",
     "output_type": "stream",
     "text": [
      "Image ID: 20170703T150911_20170703T151120_T22VEQ\n",
      "Image ID: 20170705T145919_20170705T145936_T21VXL\n",
      "Image ID: 20170705T145919_20170705T145936_T22VCR\n",
      "Image ID: 20170705T145919_20170705T145936_T22VDP\n",
      "Image ID: 20170705T145919_20170705T145936_T22VDQ\n",
      "Image ID: 20170705T145919_20170705T145936_T22VDR\n",
      "Image ID: 20170705T145919_20170705T145936_T22VEP\n",
      "Image ID: 20170706T151911_20170706T152002_T22VDR\n",
      "Image ID: 20170706T151911_20170706T152002_T22WDS\n",
      "Image ID: 20170706T151911_20170706T152002_T22WDT\n",
      "Image ID: 20170708T150909_20170708T150929_T22VEQ\n",
      "Image ID: 20170710T145911_20170710T150120_T21WXM\n",
      "Image ID: 20170710T145911_20170710T150120_T21WXN\n",
      "Image ID: 20170710T145911_20170710T150120_T22VEQ\n",
      "Image ID: 20170710T145911_20170710T150120_T22VER\n",
      "Image ID: 20170710T145911_20170710T150120_T22WDS\n",
      "Image ID: 20170710T145911_20170710T150120_T22WDT\n",
      "Image ID: 20170710T145911_20170710T150120_T22WES\n"
     ]
    }
   ],
   "source": [
    "bbox = [-57,62,-51,65]\n",
    "start_date = '2017-07-01'\n",
    "end_date = '2017-08-01'\n",
    "max_cloud_cover = 10\n",
    "\n",
    "# Get Sentinel-2 images\n",
    "sentinel2_images = get_sentinel2_images(bbox, start_date, end_date, max_cloud_cover)\n",
    "\n",
    "# Convert image collection to a list for manual slider\n",
    "image_list = sentinel2_images.toList(sentinel2_images.size())\n",
    "total_images = sentinel2_images.size().getInfo()\n",
    "\n",
    "# Initial index\n",
    "current_index = 0\n",
    "\n",
    "# Create a global Map object\n",
    "Map = geemap.Map()\n",
    "display(Map)\n",
    "\n",
    "# Display the first image\n",
    "selected_image = ee.Image(image_list.get(current_index))\n",
    "display_rgb_image_arrow(Map, selected_image)\n",
    "image_id = selected_image.get('system:index').getInfo()\n",
    "print(\"Image ID:\", image_id)\n",
    "\n",
    "# Create left and right arrow buttons\n",
    "button_layout = widgets.Layout(width='50px', height='30px')\n",
    "left_arrow = widgets.Button(description='←', layout=button_layout)\n",
    "right_arrow = widgets.Button(description='→', layout=button_layout)\n",
    "\n",
    "# Function to handle left arrow click\n",
    "def on_left_arrow_click(b):\n",
    "    global current_index\n",
    "    current_index = (current_index - 1) % total_images\n",
    "    update_map()\n",
    "\n",
    "# Function to handle right arrow click\n",
    "def on_right_arrow_click(b):\n",
    "    global current_index\n",
    "    current_index = (current_index + 1) % total_images\n",
    "    update_map()\n",
    "\n",
    "# Function to update the map\n",
    "def update_map():\n",
    "    Map.remove('RGB')\n",
    "    selected_image = ee.Image(image_list.get(current_index))\n",
    "    display_rgb_image_arrow(Map, selected_image)\n",
    "    image_id = selected_image.get('system:index').getInfo()\n",
    "    print(\"Image ID:\", image_id)\n",
    "    \n",
    "# Attach click event handlers to the buttons\n",
    "left_arrow.on_click(on_left_arrow_click)\n",
    "right_arrow.on_click(on_right_arrow_click)\n",
    "\n",
    "# Display the buttons\n",
    "display(widgets.HBox([left_arrow, right_arrow]))"
   ]
  },
  {
   "cell_type": "code",
   "execution_count": 48,
   "id": "94a52d1d",
   "metadata": {},
   "outputs": [],
   "source": [
    "s2ids = ['20170710T145911_20170710T150120_T22WDS','20170710T145911_20170710T150120_T21WXM']\n",
    "image = get_sentinel2_image_by_id(s2ids[1])\n",
    "FAI = calculate_FAI(image)"
   ]
  },
  {
   "cell_type": "code",
   "execution_count": 49,
   "id": "e05c83cc",
   "metadata": {},
   "outputs": [
    {
     "data": {
      "application/vnd.jupyter.widget-view+json": {
       "model_id": "46fe422c5d994d7599e285739127a46f",
       "version_major": 2,
       "version_minor": 0
      },
      "text/plain": [
       "Map(center=[64.33387422395703, -53.214195889100274], controls=(WidgetControl(options=['position', 'transparent…"
      ]
     },
     "metadata": {},
     "output_type": "display_data"
    }
   ],
   "source": [
    "import matplotlib.pyplot as plt\n",
    "# Create a colormap for FAI visualization\n",
    "cmap = plt.cm.get_cmap('jet')  # Choose a colormap\n",
    "\n",
    "# plot RGB and FAI\n",
    "Map = geemap.Map()\n",
    "\n",
    "Map.centerObject(image.geometry(), 6)\n",
    "Map.addLayer(image, {'bands': ['B4', 'B3', 'B2'], 'min': 0, 'max': 1000}, 'RGB')\n",
    "pal = cm.palettes.ndwi\n",
    "\n",
    "# Add the FAI layer to the map\n",
    "# Add FAI image to the map\n",
    "Map.addLayer(FAI, {'min': 0, 'max': 1, 'palette': ['blue', 'green', 'red']}, 'Floating Algae Index (FAI)')\n",
    "# Add colorbar to the map\n",
    "Map.add_colorbar(cmap=cmap, vmin=0, vmax=1, label='Floating Algae Index (FAI)')\n",
    "\n",
    "Map.addLayerControl()\n",
    "\n",
    "display(Map)"
   ]
  },
  {
   "cell_type": "code",
   "execution_count": null,
   "id": "a60590d2",
   "metadata": {},
   "outputs": [],
   "source": []
  }
 ],
 "metadata": {
  "kernelspec": {
   "display_name": "Python 3",
   "language": "python",
   "name": "python3"
  },
  "language_info": {
   "codemirror_mode": {
    "name": "ipython",
    "version": 3
   },
   "file_extension": ".py",
   "mimetype": "text/x-python",
   "name": "python",
   "nbconvert_exporter": "python",
   "pygments_lexer": "ipython3",
   "version": "3.7.10"
  }
 },
 "nbformat": 4,
 "nbformat_minor": 5
}
