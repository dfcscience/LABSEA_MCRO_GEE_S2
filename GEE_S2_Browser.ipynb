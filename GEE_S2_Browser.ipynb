{
 "cells": [
  {
   "cell_type": "markdown",
   "id": "17840eee",
   "metadata": {},
   "source": [
    "Daniel F Carlson\n",
    "Helmholtz-Zentrum Hereon\n",
    "daniel.carlson@hereon.de\n",
    "\n",
    "This notebook demonstrates how to:\n",
    "1. Generate a collection of Sentinel-2 images based on the criteria: bounding box, date range, and cloud cover\n",
    "2. Visualize the RGB images and switch between images using a slider \n",
    "3. Visualize the RGB images and switch between images using arrows\n",
    "\n",
    "Note: You must have a Google Earth Engine account. If you do not have a GEE account go to https://earthengine.google.com/\n",
    "\n",
    "This example uses Sentinel-2 data: https://developers.google.com/earth-engine/datasets/catalog/sentinel-2"
   ]
  },
  {
   "cell_type": "code",
   "execution_count": 2,
   "id": "9edce77b",
   "metadata": {},
   "outputs": [],
   "source": [
    "import ee\n",
    "import geemap\n",
    "from ipywidgets import interact, IntSlider\n",
    "\n",
    "# Authenticate - you may be redirected to GEE. Follow the instructions\n",
    "ee.Authenticate()\n",
    "ee.Initialize()"
   ]
  },
  {
   "cell_type": "code",
   "execution_count": 3,
   "id": "b6d1b10d",
   "metadata": {},
   "outputs": [],
   "source": [
    "def get_sentinel2_images(bbox, start_date, end_date, max_cloud_cover):\n",
    "    region = ee.Geometry.Rectangle(bbox)\n",
    "    date_filter = ee.Filter.date(start_date, end_date)\n",
    "    cloud_filter = ee.Filter.lt('CLOUDY_PIXEL_PERCENTAGE', max_cloud_cover)\n",
    "    combined_filter = ee.Filter.And(date_filter, cloud_filter)\n",
    "\n",
    "    sentinel2 = (ee.ImageCollection('COPERNICUS/S2')\n",
    "                 .filterBounds(region)\n",
    "                 .filter(combined_filter))\n",
    "\n",
    "    return sentinel2\n",
    "\n",
    "def display_rgb_image(image):\n",
    "    Map = geemap.Map()\n",
    "    Map.centerObject(image.geometry(), 8)\n",
    "    Map.addLayer(image, {'bands': ['B4', 'B3', 'B2'], 'min': 0, 'max': 1000}, 'RGB')\n",
    "    Map.addLayerControl()\n",
    "    Map\n",
    "\n",
    "    return Map"
   ]
  },
  {
   "cell_type": "code",
   "execution_count": 11,
   "id": "f2236d6a",
   "metadata": {},
   "outputs": [],
   "source": [
    "# parameters\n",
    "#bbox = [-57,62,-51,65] # bounding box coordinates: west, south, east, north\n",
    "bbox = [-93,27,-87,30.4]\n",
    "start_date = '2017-01-01'\n",
    "end_date = '2017-03-01'\n",
    "max_cloud_cover = 10"
   ]
  },
  {
   "cell_type": "code",
   "execution_count": 12,
   "id": "81a53a00",
   "metadata": {},
   "outputs": [],
   "source": [
    "# Get Sentinel-2 images\n",
    "sentinel2_images = get_sentinel2_images(bbox, start_date, end_date, max_cloud_cover)\n",
    "\n",
    "# Convert image collection to a list for manual slider\n",
    "image_list = sentinel2_images.toList(sentinel2_images.size())\n",
    "total_images = sentinel2_images.size().getInfo()"
   ]
  },
  {
   "cell_type": "code",
   "execution_count": 13,
   "id": "eac740dd",
   "metadata": {},
   "outputs": [
    {
     "data": {
      "application/vnd.jupyter.widget-view+json": {
       "model_id": "58fc0859776f4a8dac978cec4d0928bb",
       "version_major": 2,
       "version_minor": 0
      },
      "text/plain": [
       "interactive(children=(IntSlider(value=0, continuous_update=False, description='image_index', max=137), Output(…"
      ]
     },
     "metadata": {},
     "output_type": "display_data"
    },
    {
     "data": {
      "text/plain": [
       "<function __main__.update_map(image_index)>"
      ]
     },
     "execution_count": 13,
     "metadata": {},
     "output_type": "execute_result"
    }
   ],
   "source": [
    "# Create a function to display the map and print image ID\n",
    "def update_map(image_index):\n",
    "    selected_image = ee.Image(image_list.get(int(image_index)))\n",
    "    Map = display_rgb_image(selected_image)\n",
    "    \n",
    "    # Retrieve and print image ID\n",
    "    image_id = selected_image.get('system:index').getInfo()\n",
    "    print(\"Image ID:\", image_id)\n",
    "    \n",
    "    return Map\n",
    "\n",
    "# Create an interactive slider\n",
    "slider = IntSlider(min=0, max=sentinel2_images.size().getInfo() - 1, step=1, continuous_update=False)\n",
    "interact(update_map, image_index=slider)"
   ]
  },
  {
   "cell_type": "markdown",
   "id": "94f08a59",
   "metadata": {},
   "source": [
    "The slider can be a bit tricky to use. Instead of a slider, let's use arrows"
   ]
  },
  {
   "cell_type": "code",
   "execution_count": 10,
   "id": "46a7e3f1",
   "metadata": {},
   "outputs": [],
   "source": [
    "import ipywidgets as widgets"
   ]
  },
  {
   "cell_type": "code",
   "execution_count": 19,
   "id": "86e4d577",
   "metadata": {},
   "outputs": [
    {
     "data": {
      "application/vnd.jupyter.widget-view+json": {
       "model_id": "dcdc09f5cf614c75b1524edf576d4b5e",
       "version_major": 2,
       "version_minor": 0
      },
      "text/plain": [
       "Map(center=[20, 0], controls=(WidgetControl(options=['position', 'transparent_bg'], widget=HBox(children=(Togg…"
      ]
     },
     "metadata": {},
     "output_type": "display_data"
    },
    {
     "name": "stdout",
     "output_type": "stream",
     "text": [
      "Image ID: 20170101T165452_20170101T165446_T15RVM\n"
     ]
    },
    {
     "data": {
      "application/vnd.jupyter.widget-view+json": {
       "model_id": "8feff1d7cebb4d9d90b86c26dd3680d7",
       "version_major": 2,
       "version_minor": 0
      },
      "text/plain": [
       "HBox(children=(Button(description='←', layout=Layout(height='30px', width='50px'), style=ButtonStyle()), Butto…"
      ]
     },
     "metadata": {},
     "output_type": "display_data"
    },
    {
     "name": "stdout",
     "output_type": "stream",
     "text": [
      "Image ID: 20170101T165452_20170101T165446_T15RYM\n",
      "Image ID: 20170105T162652_20170105T162845_T16RCQ\n",
      "Image ID: 20170105T162652_20170105T162845_T16RCR\n",
      "Image ID: 20170105T162652_20170105T162845_T16RCS\n",
      "Image ID: 20170105T162652_20170105T162845_T16RDQ\n",
      "Image ID: 20170105T162652_20170105T162845_T16RDR\n",
      "Image ID: 20170105T162652_20170105T162845_T16RDS\n",
      "Image ID: 20170105T162652_20170105T162845_T16REQ\n",
      "Image ID: 20170105T162652_20170105T162845_T16RER\n",
      "Image ID: 20170105T162652_20170105T162845_T16RES\n",
      "Image ID: 20170108T163641_20170108T163846_T15RYN\n",
      "Image ID: 20170108T163641_20170108T163846_T15RYP\n",
      "Image ID: 20170108T163641_20170108T163846_T16RBT\n"
     ]
    }
   ],
   "source": [
    "def display_rgb_image_arrow(Map, image):\n",
    "    Map.centerObject(image.geometry(), 8)\n",
    "    Map.addLayer(image, {'bands': ['B4', 'B3', 'B2'], 'min': 0, 'max': 1000}, 'RGB')\n",
    "    Map.addLayerControl()\n",
    "\n",
    "# Initial index\n",
    "current_index = 0\n",
    "\n",
    "# Create a global Map object\n",
    "Map = geemap.Map()\n",
    "display(Map)\n",
    "\n",
    "# Display the first image\n",
    "selected_image = ee.Image(image_list.get(current_index))\n",
    "display_rgb_image_arrow(Map, selected_image)\n",
    "image_id = selected_image.get('system:index').getInfo()\n",
    "print(\"Image ID:\", image_id)\n",
    "\n",
    "# Create left and right arrow buttons\n",
    "button_layout = widgets.Layout(width='50px', height='30px')\n",
    "left_arrow = widgets.Button(description='←', layout=button_layout)\n",
    "right_arrow = widgets.Button(description='→', layout=button_layout)\n",
    "\n",
    "# Function to handle left arrow click\n",
    "def on_left_arrow_click(b):\n",
    "    global current_index\n",
    "    current_index = (current_index - 1) % total_images\n",
    "    update_map()\n",
    "\n",
    "# Function to handle right arrow click\n",
    "def on_right_arrow_click(b):\n",
    "    global current_index\n",
    "    current_index = (current_index + 1) % total_images\n",
    "    update_map()\n",
    "\n",
    "# Function to update the map\n",
    "def update_map():\n",
    "    Map.remove('RGB')\n",
    "    selected_image = ee.Image(image_list.get(current_index))\n",
    "    display_rgb_image_arrow(Map, selected_image)\n",
    "    image_id = selected_image.get('system:index').getInfo()\n",
    "    print(\"Image ID:\", image_id)\n",
    "    \n",
    "# Attach click event handlers to the buttons\n",
    "left_arrow.on_click(on_left_arrow_click)\n",
    "right_arrow.on_click(on_right_arrow_click)\n",
    "\n",
    "# Display the buttons\n",
    "display(widgets.HBox([left_arrow, right_arrow]))"
   ]
  },
  {
   "cell_type": "code",
   "execution_count": null,
   "id": "1014edd0",
   "metadata": {},
   "outputs": [],
   "source": []
  }
 ],
 "metadata": {
  "kernelspec": {
   "display_name": "Python 3",
   "language": "python",
   "name": "python3"
  },
  "language_info": {
   "codemirror_mode": {
    "name": "ipython",
    "version": 3
   },
   "file_extension": ".py",
   "mimetype": "text/x-python",
   "name": "python",
   "nbconvert_exporter": "python",
   "pygments_lexer": "ipython3",
   "version": "3.7.10"
  }
 },
 "nbformat": 4,
 "nbformat_minor": 5
}
